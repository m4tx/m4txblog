{
 "cells": [
  {
   "cell_type": "code",
   "execution_count": 14,
   "id": "783db0e3-2e70-4603-8ee7-1d71e53e40d8",
   "metadata": {},
   "outputs": [],
   "source": [
    "import json\n",
    "import subprocess\n",
    "import re"
   ]
  },
  {
   "cell_type": "code",
   "execution_count": 110,
   "id": "4b228c76-bb49-46db-ae44-b59bb63f9193",
   "metadata": {},
   "outputs": [],
   "source": [
    "s = open('/home/m4tx/Downloads/Result_2.json', 'r').read()"
   ]
  },
  {
   "cell_type": "code",
   "execution_count": 111,
   "id": "85db224f-6268-4857-95f8-6432c2bd01bb",
   "metadata": {},
   "outputs": [],
   "source": [
    "posts = json.loads(s)"
   ]
  },
  {
   "cell_type": "code",
   "execution_count": 153,
   "id": "4c75583d-b7ad-48ce-a72b-47924b110fbc",
   "metadata": {},
   "outputs": [],
   "source": [
    "def process_post(post):\n",
    "    content = post['post_content']\n",
    "    content = content.replace('\\r', '')\n",
    "    \n",
    "    new_content = ''\n",
    "    in_pre = False\n",
    "    for idx, ch in enumerate(content):\n",
    "        if content[idx:].startswith('<pre'):\n",
    "            in_pre = True\n",
    "        if content[idx:].startswith('</pre>'):\n",
    "            in_pre = False\n",
    "        if ch == '\\n' and not in_pre:\n",
    "            new_content += '<br>'\n",
    "        else:\n",
    "            new_content += ch\n",
    "\n",
    "    content = new_content\n",
    "    content = content.replace('<br><br>', '<p>')\n",
    "    content = content.replace('\\t', '    ')\n",
    "    content = content.replace('<!--more-->', ' ')\n",
    "\n",
    "    with open('/tmp/post.html', 'w') as f:\n",
    "        f.write(content)\n",
    "    subprocess.run(['pandoc', '--from', 'html', '--to', 'commonmark', '--wrap=preserve', '-o', '/tmp/post.md', '/tmp/post.html'])\n",
    "    new_md = open('/tmp/post.md', 'r').read()\n",
    "\n",
    "    new_md = re.sub(r\"(\\s)\\:\\)\\*\\*\", r\"\\1😄**\", new_md)\n",
    "    new_md = re.sub(r\"(\\s)\\:\\)(\\s|$)\", r\"\\1😄\\2\", new_md)\n",
    "    new_md = re.sub(r\"(\\s)\\;\\)(\\s|$)\", r\"\\1😉\\2\", new_md)\n",
    "    new_md = re.sub(r\"(\\s)\\:P(\\s|$)\", r\"\\1😜\\2\", new_md)\n",
    "    new_md = re.sub(r\"(\\s)\\:P\\*\\*\", r\"\\1😜**\", new_md)\n",
    "    new_md = new_md.replace('\\n  \\n\\n', '\\n\\n')\n",
    "    new_md = new_md.replace('\\n\\n  \\n', '\\n\\n')\n",
    "    new_md = new_md.replace('\\n\\n\\n', '\\n\\n')\n",
    "    new_md = new_md.replace('``` brush:', '```')\n",
    "    new_md = new_md.strip()\n",
    "    new_md = re.sub(r\"Cat Allmon\", r\"Cat Allman\", new_md)\n",
    "\n",
    "    tags = post['tags'].split(',')\n",
    "    category = tags[0]\n",
    "    tags = tags[1:]\n",
    "\n",
    "    return {\n",
    "        \"content\": new_md,\n",
    "        \"title\": post['post_title'],\n",
    "        \"permalink\": post['post_name'],\n",
    "        \"category\": category,\n",
    "        \"tags\": tags,\n",
    "        \"date\": post['post_date'] + \"+0000\",\n",
    "    }"
   ]
  },
  {
   "cell_type": "code",
   "execution_count": 154,
   "id": "399d4fe0-cd28-4dd2-809c-0bbe5091f735",
   "metadata": {},
   "outputs": [],
   "source": [
    "def post_to_file_content(post, language=None):\n",
    "    if language is None:\n",
    "        language = 'en'\n",
    "    \n",
    "    front_mattter = \"\"\"---\n",
    "title: '{}'\n",
    "permalink: '{}'\n",
    "category: '{}'\n",
    "tags: {}\n",
    "language: {}\n",
    "date: {}\n",
    "---\"\"\".format(post[\"title\"], post[\"permalink\"], post['category'], post[\"tags\"], language, post[\"date\"])\n",
    "\n",
    "    md_content = post[\"content\"]\n",
    "    content = f\"{front_mattter}\\n\\n{md_content}\\n\"\n",
    "\n",
    "    language_path = '-pl' if language == 'pl' else ''\n",
    "    return (post[\"date\"].split()[0] + language_path + \"-\" + post[\"permalink\"] + \".md\", content)"
   ]
  },
  {
   "cell_type": "code",
   "execution_count": 155,
   "id": "e9c1a6f1-10bb-4469-a045-fcc7dc483da4",
   "metadata": {},
   "outputs": [],
   "source": [
    "for post in posts:\n",
    "    post_processed = process_post(post)\n",
    "    filename, content = post_to_file_content(post_processed, 'pl')\n",
    "    with open(f'/home/m4tx/projects/m4txblog/src/md-pages/{filename}', 'w') as f:\n",
    "        f.write(content)"
   ]
  },
  {
   "cell_type": "code",
   "execution_count": 124,
   "id": "966997a2-ae70-47b7-9b81-29b958d861aa",
   "metadata": {},
   "outputs": [],
   "source": [
    "with open('/tmp/haha.html', 'w') as f: f.write(posts[42]['post_content'])"
   ]
  },
  {
   "cell_type": "code",
   "execution_count": 118,
   "id": "4d93f90d-a451-4ff8-850d-dca2e905be75",
   "metadata": {},
   "outputs": [
    {
     "data": {
      "text/plain": [
       "{'post_date': '2011-07-20 13:30:30',\n",
       " 'post_content': '<h1>3. Widżety</h1>\\r\\n<h2>3.1. Wstawienie przycisku</h2>\\r\\nW tym rozdziale dowiesz się, jak wstawić przycisk do naszego pustego okna.<!--more-->Aby jednak to zrobić, potrzebujemy kontenera, w którym będziemy mogli go umieścić. Użyjemy kontenera, który się nazywa fixed. Jego główną cechą jest to, że widżety umieszcza się w nim, podając położenie oraz rozmiar w pikselach. Poniżej znajduje się kod źródłowy z drugiego rozdziału:\\r\\n<pre class=\"brush:cpp\">#include &lt;gtk/gtk.h&gt;\\r\\n\\r\\nint main (int argc, char *argv[]) {\\r\\n    GtkWidget *okno;\\r\\n\\r\\n    gtk_init (&amp;argc, &amp;argv);\\r\\n\\r\\n    okno = gtk_window_new (GTK_WINDOW_TOPLEVEL);\\r\\n    gtk_widget_show (okno);\\r\\n\\r\\n    gtk_main ();\\r\\n\\r\\n    return 0;\\r\\n}</pre>\\r\\nPo:\\r\\n<pre class=\"brush:cpp\">GtkWidget *okno;\\r\\n\\r\\n</pre>\\r\\numieścimy definicje zmiennych, które przechowają nam kontener oraz przycisk. Tak więc dopisujemy pod spodem:\\r\\n<pre class=\"brush:cpp\">GtkWidget *kontener;\\r\\nGtkWidget *przycisk;\\r\\n\\r\\n</pre>\\r\\nNo - ale jak widać, są to tylko wskaźniki, więc nasz kontener i przycisk przydało by się jakoś utworzyć. W tym celu pod linijką\\r\\n<pre class=\"brush:cpp\">okno = gtk_window_new (GTK_WINDOW_TOPLEVEL);\\r\\n\\r\\n</pre>\\r\\ndopisz:\\r\\n<pre class=\"brush:cpp\">    kontener = gtk_fixed_new();\\r\\n    gtk_container_add(GTK_CONTAINER(okno), kontener);\\r\\n\\r\\n    przycisk = gtk_button_new_with_label(\"Twój pierwszy przycisk\");\\r\\n    gtk_widget_set_size_request(przycisk, 180, 35);\\r\\n    gtk_fixed_put(GTK_FIXED(kontener), przycisk, 10, 10);</pre>\\r\\nJuż wszystko tłumaczę:\\r\\nPierwsza linijka odpowiada za utworzenie kontenera fixed. Następna umieszcza go w oknie programu. Trzecia tworzy nowy przycisk z etykietą \"Twój pierwszy przycisk\". Następna ustala rozmiar przycisku (80x35 pikseli) i ostatnia umieszcza go w kontenerze 50 pikseli od lewej krawędzi kontenera i 20 od górnej.\\r\\n\\r\\nŻeby ujrzeć nasz przycisk, należy jeszcze zamienić linijkę\\r\\n<pre class=\"brush:cpp\">gtk_widget_show (okno);\\r\\n\\r\\n</pre>\\r\\nna:\\r\\n<pre class=\"brush:cpp\">gtk_widget_show_all(okno);</pre>\\r\\nAby wyświetlić wszystkie widżety, a nie tylko okno programu.\\r\\n\\r\\nCałość wygląda następująco:\\r\\n<pre class=\"brush:cpp\">#include &lt;gtk/gtk.h&gt;\\r\\n\\r\\nint main (int argc, char *argv[]) {\\r\\n    GtkWidget *okno;\\r\\n    GtkWidget *kontener;\\r\\n    GtkWidget *przycisk;\\r\\n\\r\\n    gtk_init (&amp;argc, &amp;argv);\\r\\n\\r\\n    okno = gtk_window_new (GTK_WINDOW_TOPLEVEL);\\r\\n\\r\\n    kontener = gtk_fixed_new();\\r\\n    gtk_container_add(GTK_CONTAINER(okno), kontener);\\r\\n\\r\\n    przycisk = gtk_button_new_with_label(\"Twój pierwszy przycisk\");\\r\\n    gtk_widget_set_size_request(przycisk, 180, 35);\\r\\n    gtk_fixed_put(GTK_FIXED(kontener), przycisk, 10, 10);\\r\\n\\r\\n    gtk_widget_show_all(okno);\\r\\n\\r\\n    gtk_main ();\\r\\n\\r\\n    return 0;\\r\\n}</pre>\\r\\nPo skompilowaniu programu powinieneś ujrzeć coś takiego:\\r\\n\\r\\n<a href=\"http://m4tx.pl/wp-content/uploads/2011/07/kursgtk_03_scr01.png\"><img class=\"aligncenter size-full wp-image-710\" title=\"Kurs GTK+ - rozdział 3 - screen 01\" src=\"http://m4tx.pl/wp-content/uploads/2011/07/kursgtk_03_scr01.png\" alt=\"\" width=\"282\" height=\"173\" /></a>\\r\\n<h2>3.2. Właściwości okna programu</h2>\\r\\nUruchamiając swój program, z pewnością zauważyłeś, że rozmiar okna zmienił się. Z 400x400px zmniejszył się do rozmiarów kontenera. Na szczęście da się to zmienić.\\r\\n<pre class=\"brush:cpp\">void gtk_window_set_default_size (GtkWindow *window, gint width, gint height);</pre>\\r\\nPowyższa funkcja pozwala zmienić domyślny rozmiar okna. Pierwszym argumentem jest referencja do okna, drugim żądana szerokośc, oraz ostatnim wysokość. Zapewne zauważyłeś, że wysokość i szerokość nie jest zmienną typu int, tylko gint. GTK+ korzysta bowiem z własnych typów zmiennych, aby ułatwić portowanie biblioteki na inne języki programowania niż C i C++. Typami zmiennych w GTK+ nie będziemy się jednak w tym rozdziale zajmować, ponieważ są one identyczne jak znane Ci już typy języka C, jak na przykład int, bool, czy float.\\r\\n\\r\\nPowyższą funkcję warto więc wstawić do kodu naszego programu. W tym celu pod:\\r\\n<pre class=\"brush:cpp\">okno = gtk_window_new (GTK_WINDOW_TOPLEVEL);</pre>\\r\\nwstaw:\\r\\n<pre class=\"brush:cpp\">gtk_window_set_default_size (GTK_WINDOW(okno), 300, 200);</pre>\\r\\nPo skompilowaniu i uruchomieniu programu powinno być już o wiele lepiej. Jak zapewne zauważyłeś, wykonaliśmy konwersję GtkWidget na GtkWindow. Jest to wymagane, ponieważ nasze okno ma typ GtkWidget, a funkcja <em>gtk_window_set_default_size()</em> przyjmuje wskaźnik do okna typu GtkWindow.\\r\\n\\r\\nWarto również sprawić, aby po uruchomieniu okno znajdowało się pośrodku ekranu. W tym celu, pod funkcją <em>gtk_window_set_default_size()</em> wstaw następującą linijkę:\\r\\n<pre class=\"brush:cpp\">gtk_window_set_position(GTK_WINDOW(okno), GTK_WIN_POS_CENTER);</pre>\\r\\nOczywiście nie chcesz, aby Twoje okno miało tytuł \"kurs_gtkplus\", \"main\", czy podobną. To też się da zmienić. Służy do tego funkcja:\\r\\n<pre class=\"brush:cpp\">void gtk_window_set_title (GtkWindow *window, const gchar *title);</pre>\\r\\nJako pierwszy argument przyjmuje ona referencję do okna, a jako drugi - żądany tytuł. Aby więc nasze okno miało tytuł \"Nasz program\", pod wywołaniem poprzednio opisywanej funkcji, wstaw:\\r\\n<pre class=\"brush:cpp\">gtk_window_set_title (GTK_WINDOW(okno), \"Nasz program\");</pre>\\r\\nPo skompilowaniu i uruchomieniu programu okno naszego programu powinno wyglądać następująco:\\r\\n\\r\\n<a href=\"http://m4tx.pl/wp-content/uploads/2011/07/kursgtk_03_scr02.png\"><img class=\"aligncenter size-full wp-image-714\" title=\"Kurs GTK+ - rozdział 3 - screen 02\" src=\"http://m4tx.pl/wp-content/uploads/2011/07/kursgtk_03_scr02.png\" alt=\"\" width=\"442\" height=\"377\" /></a>\\r\\n\\r\\nTo by było na tyle w tym rozdziale. W następnym powiem nieco o zdarzeniach w GTK+.',\n",
       " 'post_title': 'Kurs GTK+ – rozdział 3',\n",
       " 'post_name': 'kurs-gtk-%e2%80%93-rozdzial-3',\n",
       " 'tags': 'GTK+,Kurs GTK+,kurs,GUI,okno,przycisk,tytuł,rozmiar,kontener,położenie'}"
      ]
     },
     "execution_count": 118,
     "metadata": {},
     "output_type": "execute_result"
    }
   ],
   "source": [
    "posts[42]"
   ]
  },
  {
   "cell_type": "code",
   "execution_count": null,
   "id": "a2d15729-6c9b-4387-bc9b-4609ed88a0ad",
   "metadata": {},
   "outputs": [],
   "source": []
  }
 ],
 "metadata": {
  "kernelspec": {
   "display_name": "Python 3 (ipykernel)",
   "language": "python",
   "name": "python3"
  },
  "language_info": {
   "codemirror_mode": {
    "name": "ipython",
    "version": 3
   },
   "file_extension": ".py",
   "mimetype": "text/x-python",
   "name": "python",
   "nbconvert_exporter": "python",
   "pygments_lexer": "ipython3",
   "version": "3.13.2"
  }
 },
 "nbformat": 4,
 "nbformat_minor": 5
}
